{
 "cells": [
  {
   "cell_type": "markdown",
   "metadata": {},
   "source": [
    "# N-body simulation"
   ]
  },
  {
   "cell_type": "code",
   "execution_count": 1,
   "metadata": {},
   "outputs": [],
   "source": [
    "import numpy as np\n",
    "import matplotlib.pyplot as plt\n",
    "from tqdm import tqdm\n",
    "import torch"
   ]
  },
  {
   "cell_type": "code",
   "execution_count": 2,
   "metadata": {},
   "outputs": [
    {
     "data": {
      "text/plain": [
       "True"
      ]
     },
     "execution_count": 2,
     "metadata": {},
     "output_type": "execute_result"
    }
   ],
   "source": [
    "torch.cuda.is_available()"
   ]
  },
  {
   "cell_type": "code",
   "execution_count": null,
   "metadata": {},
   "outputs": [],
   "source": [
    "def get_grav_acc(x, m, G):\n",
    "    \"\"\"\n",
    "    Calculate gravitational acceleration of all points.\n",
    "        x: (n, 2) array of positions\n",
    "        m: (n,) array of masses\n",
    "        G: gravitational constant\n",
    "    \"\"\"\n",
    "    n = x.shape[0]\n",
    "    assert x.shape == (n, 2) and m.shape == (n,)\n",
    "\n",
    "    epsilon = 20  # For buffering/smoothing effect\n",
    "\n",
    "    # Calculate pairwise displacement vectors (x_i - x_j)\n",
    "    dx = x[:,None,:] - x[None,:,:]  # Shape: (n, n, 2)\n",
    "    d = torch.norm(dx, dim=2)\n",
    "\n",
    "    mapped_masses = m[:,None].expand(n, n)\n",
    "\n",
    "    F = G * dx * mapped_masses[:,:,None] / (d**3 + epsilon)[:,:,None]\n",
    "    acc = torch.sum(F, dim=0) / m[:,None]\n",
    "\n",
    "    return acc"
   ]
  },
  {
   "cell_type": "code",
   "execution_count": 100,
   "metadata": {},
   "outputs": [],
   "source": [
    "def get_grav_potential_energy(x, m, G):\n",
    "    \"\"\"\n",
    "    Calculate the total gravitational potential energy of the system.\n",
    "        x: (n, 2) array of positions\n",
    "        m: (n,) array of masses\n",
    "        G: gravitational constant\n",
    "    \"\"\"\n",
    "    n = x.shape[0]\n",
    "    assert x.shape == (n, 2) and m.shape == (n,)\n",
    "    epsilon = 20  # For buffering/smoothing effect\n",
    "\n",
    "    # Calculate pairwise displacement vectors (x_i - x_j)\n",
    "    dx = x[:, None, :] - x[None, :, :]  # Shape: (n, n, 2)\n",
    "    d = torch.norm(dx, dim=2)  # Shape: (n, n)\n",
    "\n",
    "    m_pairwise = m[:,None] * m[None,:]  # Shape: (n, n)\n",
    "\n",
    "    U_pairwise = -G * m_pairwise / (d + epsilon)  # Shape: (n, n)\n",
    "    U_pairwise = U_pairwise * (1 - torch.eye(n, dtype=torch.float32, device=x.device))\n",
    "\n",
    "    # Sum all pairwise potentials and divide by 2 to avoid double-counting\n",
    "    U_total = torch.sum(U_pairwise) / 2\n",
    "\n",
    "    return U_total"
   ]
  },
  {
   "cell_type": "code",
   "execution_count": 23,
   "metadata": {},
   "outputs": [],
   "source": [
    "def update_system_verlet(x, v, m, dt, G):\n",
    "    \"\"\"\n",
    "    Update points due to gravitational attraction.\n",
    "        x:  (n, 2) array of positions\n",
    "        v:  (n, 2) array of velocities\n",
    "        m:  (n,) array of masses\n",
    "        dt: time step\n",
    "        G:  gravitational constant\n",
    "    \"\"\"\n",
    "    device = torch.device(\"cuda\" if torch.cuda.is_available() else \"cpu\")\n",
    "    \n",
    "    x = x.to(device)\n",
    "    v = v.to(device)\n",
    "    m = m.to(device)\n",
    "    \n",
    "    n = x.shape[0]\n",
    "    assert x.shape == (n, 2) and v.shape == (n, 2) and m.shape == (n,)\n",
    "    \n",
    "    # Update positions and velocities using Verlet integration\n",
    "    # https://en.wikipedia.org/wiki/Verlet_integration#Velocity_Verlet\n",
    "    a = get_grav_acc(x, m, G)\n",
    "\n",
    "    x_new = x + v * dt + 0.5 * a * dt**2\n",
    "    a_new = get_grav_acc(x_new, m, G)\n",
    "    v_new = v + 0.5 * (a + a_new) * dt\n",
    "\n",
    "    return x_new, v_new"
   ]
  },
  {
   "cell_type": "code",
   "execution_count": 24,
   "metadata": {},
   "outputs": [],
   "source": [
    "def update_system_leapfrog(x, v, m, dt, G):\n",
    "    \"\"\"\n",
    "    Update points due to gravitational attraction.\n",
    "        x:  (n, 2) array of positions\n",
    "        v:  (n, 2) array of velocities\n",
    "        m:  (n,) array of masses\n",
    "        dt: time step\n",
    "        G:  gravitational constant\n",
    "    \"\"\"\n",
    "    n = x.shape[0]\n",
    "    assert x.shape == (n, 2) and v.shape == (n, 2) and m.shape == (n,)\n",
    "    \n",
    "    # Update positions and velocities using Leapfrog method\n",
    "    # https://en.wikipedia.org/wiki/Leapfrog_integration\n",
    "    a = get_grav_acc(x, m, G)\n",
    "\n",
    "    v_new = v + a * dt * 0.5\n",
    "    x_new = x + v_new * dt\n",
    "    a_new = get_grav_acc(x_new, m, G)\n",
    "    v_new = v + a_new * dt * 0.5\n",
    "\n",
    "    return x_new, v_new"
   ]
  },
  {
   "cell_type": "markdown",
   "metadata": {},
   "source": [
    "## Render examples"
   ]
  },
  {
   "cell_type": "code",
   "execution_count": 103,
   "metadata": {},
   "outputs": [],
   "source": [
    "import imageio\n",
    "import cv2\n",
    "\n",
    "n = 1000\n",
    "width = 512\n",
    "height = 512\n",
    "G = 1\n",
    "\n",
    "theta = np.random.random((n,)) * (2 * np.pi)\n",
    "r = (np.random.random((n,)) * 0.8 + 0.1) * (width/2)\n",
    "x = np.array([np.cos(theta) * r + (width/2), np.sin(theta) * r + (height/2)]).T\n",
    "v = np.zeros((n, 2))\n",
    "m = np.ones((n,))\n",
    "\n",
    "# Chonky boi\n",
    "x[0] = [width/2, height/2]\n",
    "m[0] = 5000\n",
    "for i in range(1, n):\n",
    "    dx = x[i] - x[0]\n",
    "    dx = np.array([dx[1], -dx[0]])\n",
    "    r = np.linalg.norm(dx)\n",
    "    dx *= np.sqrt(G * m[0]) * (1/r) * r**(-1/2) * 0.8\n",
    "    v[i] = dx\n",
    "v[0] = [0, 0]\n",
    "\n",
    "x_og = torch.from_numpy(x).cuda()\n",
    "v_og = torch.from_numpy(v).cuda()\n",
    "m_og = torch.from_numpy(m).cuda()"
   ]
  },
  {
   "cell_type": "code",
   "execution_count": 118,
   "metadata": {},
   "outputs": [],
   "source": [
    "# Reset the simulation\n",
    "x = x_og.clone()\n",
    "v = v_og.clone()\n",
    "m = m_og.clone()"
   ]
  },
  {
   "cell_type": "code",
   "execution_count": 119,
   "metadata": {},
   "outputs": [
    {
     "name": "stderr",
     "output_type": "stream",
     "text": [
      "100%|██████████| 60/60 [00:04<00:00, 13.94it/s]\n"
     ]
    }
   ],
   "source": [
    "frames = []\n",
    "fig, ax = plt.subplots(figsize=(width / 100, height / 100), dpi=100)\n",
    "fig.patch.set_facecolor('black')\n",
    "\n",
    "s = torch.sqrt(m_og).cpu()  # point sizes\n",
    "\n",
    "n_frames = 30 * 2\n",
    "x_hist = torch.zeros((n_frames, n, 2))\n",
    "KE_hist = torch.zeros(n_frames)\n",
    "PE_hist = torch.zeros(n_frames)\n",
    "\n",
    "for i in tqdm(range(n_frames)):\n",
    "    x, v = update_system_leapfrog(x, v, m, 0.2, G)\n",
    "    x_hist[i] = x\n",
    "\n",
    "    ax.clear()\n",
    "    ax.set_xlim(0, width)\n",
    "    ax.set_ylim(0, height)\n",
    "    ax.scatter(x.cpu()[:,1], x.cpu()[:,0], color=\"white\", s=s)\n",
    "    plt.axis(\"off\")\n",
    "    plt.subplots_adjust(left=0, right=1, top=1, bottom=0)\n",
    "\n",
    "    # Plot energies\n",
    "    KE_hist[i] = torch.sum(1/2 * m * torch.norm(v, dim=1)**2)\n",
    "    PE_hist[i] = get_grav_potential_energy(x, m, G)\n",
    "\n",
    "    fig.canvas.draw()\n",
    "    image = np.frombuffer(fig.canvas.buffer_rgba(), dtype=\"uint8\")\n",
    "    image = image.reshape(fig.canvas.get_width_height() + (4,))\n",
    "    image = cv2.cvtColor(image, cv2.COLOR_RGBA2RGB)\n",
    "    \n",
    "    # Make the image writable by creating a copy\n",
    "    image = image.copy()\n",
    "    frames.append(image)\n",
    "\n",
    "plt.close()\n",
    "\n",
    "# Save frames as an animated GIF with looping\n",
    "imageio.mimsave(\"nbody_test.mp4\", frames, fps=30)"
   ]
  },
  {
   "cell_type": "code",
   "execution_count": 120,
   "metadata": {},
   "outputs": [
    {
     "data": {
      "image/png": "[encoded data removed]",
      "text/plain": [
       "<Figure size 640x480 with 1 Axes>"
      ]
     },
     "metadata": {},
     "output_type": "display_data"
    }
   ],
   "source": [
    "plt.plot(KE_hist, label=\"kinetic energy\")\n",
    "plt.plot(PE_hist, label=\"potential energy\")\n",
    "plt.plot(KE_hist + PE_hist, label=\"total energy\")\n",
    "plt.xlabel(\"time\")\n",
    "plt.ylabel(\"energy\")\n",
    "plt.title(\"Energy drift for leapfrog method\")\n",
    "plt.legend();"
   ]
  }
 ],
 "metadata": {
  "kernelspec": {
   "display_name": "torch",
   "language": "python",
   "name": "python3"
  },
  "language_info": {
   "codemirror_mode": {
    "name": "ipython",
    "version": 3
   },
   "file_extension": ".py",
   "mimetype": "text/x-python",
   "name": "python",
   "nbconvert_exporter": "python",
   "pygments_lexer": "ipython3",
   "version": "3.10.15"
  }
 },
 "nbformat": 4,
 "nbformat_minor": 2
}
