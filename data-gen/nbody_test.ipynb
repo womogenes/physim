{
 "cells": [
  {
   "cell_type": "markdown",
   "metadata": {},
   "source": [
    "# N-body simulation"
   ]
  },
  {
   "cell_type": "code",
   "execution_count": 1,
   "metadata": {},
   "outputs": [],
   "source": [
    "import numpy as np\n",
    "import matplotlib.pyplot as plt\n",
    "from tqdm import tqdm\n",
    "import torch"
   ]
  },
  {
   "cell_type": "code",
   "execution_count": 2,
   "metadata": {},
   "outputs": [
    {
     "data": {
      "text/plain": [
       "True"
      ]
     },
     "execution_count": 2,
     "metadata": {},
     "output_type": "execute_result"
    }
   ],
   "source": [
    "torch.cuda.is_available()"
   ]
  },
  {
   "cell_type": "code",
   "execution_count": 3,
   "metadata": {},
   "outputs": [],
   "source": [
    "def get_grav_acc(x, m, G):\n",
    "    \"\"\"\n",
    "    Calculate gravitational acceleration of all points.\n",
    "        x: (n, 2) array of positions\n",
    "        m: (n,) array of masses\n",
    "        G: gravitational constant\n",
    "    \"\"\"\n",
    "    device = torch.device(\"cuda\" if torch.cuda.is_available() else \"cpu\")\n",
    "    \n",
    "    x = x.to(device)\n",
    "    m = m.to(device)\n",
    "    \n",
    "    n = x.shape[0]\n",
    "    assert x.shape == (n, 2) and m.shape == (n,)\n",
    "\n",
    "    epsilon = 5  # For buffering/smoothing effect\n",
    "\n",
    "    # Calculate pairwise displacement vectors (x_i - x_j)\n",
    "    dx = x[:, None, :] - x[None, :, :]  # Shape: (n, n, 2)\n",
    "    d = torch.norm(dx, dim=2)\n",
    "\n",
    "    mapped_masses = m[:, None].expand(n, n)\n",
    "    F = G * dx * mapped_masses[:, :, None] / (d**3 + epsilon)[:, :, None]\n",
    "    acc = torch.sum(F, dim=0) / m[:, None]\n",
    "\n",
    "    return acc"
   ]
  },
  {
   "cell_type": "code",
   "execution_count": 4,
   "metadata": {},
   "outputs": [],
   "source": [
    "def update_system(x, v, m, dt, G):\n",
    "    \"\"\"\n",
    "    Update points due to gravitational attraction.\n",
    "        x:  (n, 2) array of positions\n",
    "        v:  (n, 2) array of velocities\n",
    "        m:  (n,) array of masses\n",
    "        dt: time step\n",
    "        G:  gravitational constant\n",
    "    \"\"\"\n",
    "    device = torch.device(\"cuda\" if torch.cuda.is_available() else \"cpu\")\n",
    "    \n",
    "    x = x.to(device)\n",
    "    v = v.to(device)\n",
    "    m = m.to(device)\n",
    "    \n",
    "    n = x.shape[0]\n",
    "    assert x.shape == (n, 2) and v.shape == (n, 2) and m.shape == (n,)\n",
    "    \n",
    "    # Update positions and velocities using Verlet integration\n",
    "    # https://en.wikipedia.org/wiki/Verlet_integration#Velocity_Verlet\n",
    "    a = get_grav_acc(x, m, G)\n",
    "\n",
    "    x_new = x + v * dt + 0.5 * a * dt**2\n",
    "    a_new = get_grav_acc(x_new, m, G)\n",
    "    v_new = v + 0.5 * (a + a_new) * dt\n",
    "\n",
    "    return x_new, v_new"
   ]
  },
  {
   "cell_type": "code",
   "execution_count": 21,
   "metadata": {},
   "outputs": [],
   "source": [
    "import imageio\n",
    "import cv2\n",
    "\n",
    "n = 1000\n",
    "width = 512\n",
    "height = 512\n",
    "G = 1\n",
    "\n",
    "theta = np.random.random((n,)) * (2 * np.pi)\n",
    "r = (np.random.random((n,)) * 0.8 + 0.1) * (width/2)\n",
    "x = np.array([np.cos(theta) * r + (width/2), np.sin(theta) * r + (height/2)]).T\n",
    "v = np.zeros((n, 2))\n",
    "m = np.ones((n,))\n",
    "\n",
    "# Chonky boi\n",
    "x[0] = [width/2, height/2]\n",
    "m[0] = 2000\n",
    "for i in range(1, n):\n",
    "    dx = x[i] - x[0]\n",
    "    dx = np.array([dx[1], -dx[0]])\n",
    "    r = np.linalg.norm(dx)\n",
    "    dx *= np.sqrt(G * m[0]) * (1/r) * r**(-1/2) * 1.2\n",
    "    v[i] = dx\n",
    "v[0] = [0, 0]\n",
    "\n",
    "x = torch.from_numpy(x)\n",
    "v = torch.from_numpy(v)\n",
    "m = torch.from_numpy(m)"
   ]
  },
  {
   "cell_type": "code",
   "execution_count": null,
   "metadata": {},
   "outputs": [
    {
     "name": "stderr",
     "output_type": "stream",
     "text": [
      "  0%|          | 0/300 [00:00<?, ?it/s]"
     ]
    },
    {
     "name": "stderr",
     "output_type": "stream",
     "text": [
      "100%|██████████| 300/300 [00:09<00:00, 32.85it/s]\n"
     ]
    }
   ],
   "source": [
    "frames = []\n",
    "fig, ax = plt.subplots(figsize=(width / 100, height / 100), dpi=100)\n",
    "fig.patch.set_facecolor('black')\n",
    "\n",
    "for i in tqdm(range(30 * 10)):\n",
    "    x, v = update_system(x, v, m, 1, G)\n",
    "    ax.clear()\n",
    "    ax.set_xlim(0, width)\n",
    "    ax.set_ylim(0, height)\n",
    "    ax.scatter(x.cpu()[:,0], x.cpu()[:,1], color=\"white\", s=torch.sqrt(m))\n",
    "    plt.axis(\"off\")\n",
    "    plt.subplots_adjust(left=0, right=1, top=1, bottom=0)\n",
    "\n",
    "    fig.canvas.draw()\n",
    "    image = np.frombuffer(fig.canvas.buffer_rgba(), dtype=\"uint8\")\n",
    "    image = image.reshape(fig.canvas.get_width_height() + (4,))\n",
    "    image = cv2.cvtColor(image, cv2.COLOR_RGBA2RGB)\n",
    "    \n",
    "    # Make the image writable by creating a copy\n",
    "    image = image.copy()\n",
    "    frames.append(image)\n",
    "\n",
    "plt.close()\n",
    "\n",
    "# Save frames as an animated GIF with looping\n",
    "imageio.mimsave(\"nbody_test.mp4\", frames, fps=30)"
   ]
  }
 ],
 "metadata": {
  "kernelspec": {
   "display_name": "torch",
   "language": "python",
   "name": "python3"
  },
  "language_info": {
   "codemirror_mode": {
    "name": "ipython",
    "version": 3
   },
   "file_extension": ".py",
   "mimetype": "text/x-python",
   "name": "python",
   "nbconvert_exporter": "python",
   "pygments_lexer": "ipython3",
   "version": "3.10.15"
  }
 },
 "nbformat": 4,
 "nbformat_minor": 2
}
