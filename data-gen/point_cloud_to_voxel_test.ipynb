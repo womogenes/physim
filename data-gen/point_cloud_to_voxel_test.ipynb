{
 "cells": [
  {
   "cell_type": "code",
   "execution_count": 5,
   "metadata": {},
   "outputs": [],
   "source": [
    "import torch\n",
    "from tqdm import tqdm\n",
    "import matplotlib.pyplot as plt\n",
    "import imageio\n",
    "import numpy as np\n",
    "import cv2\n",
    "\n",
    "data = torch.load(r\"./data/cloud/n_512_dt_0.1_F_512/000000.pt\", weights_only=True)"
   ]
  },
  {
   "cell_type": "code",
   "execution_count": 7,
   "metadata": {},
   "outputs": [],
   "source": [
    "WIDTH = 512\n",
    "HEIGHT = 512"
   ]
  },
  {
   "cell_type": "code",
   "execution_count": 21,
   "metadata": {},
   "outputs": [],
   "source": [
    "def points_to_histograms(X, weight, batch_size=4):\n",
    "    \"\"\"\n",
    "    Vectorized histogram creation with batched frames to manage memory.\n",
    "    \n",
    "    arguments:\n",
    "        X:       (F, n, 2) tensor of positions across F frames\n",
    "        weight:  (F, n) tensor of weights\n",
    "        batch_size: number of frames to process at once\n",
    "    \"\"\"\n",
    "    F, n, _ = X.shape\n",
    "    assert tuple(weight.shape) == (F, n), \"Weights must be of shape (F, n)\"\n",
    "    assert F % batch_size == 0\n",
    "    \n",
    "    result = torch.zeros(F, WIDTH * HEIGHT, device=X.device)\n",
    "    for i in tqdm(range(0, F, batch_size)):\n",
    "        batch_end = min(i + batch_size, F)\n",
    "\n",
    "        X_slice = X[i:batch_end]   # shape: (f, n, 2) where f = batch_end - i\n",
    "        mask = (0 <= X_slice[:,:,0]) & (X_slice[:,:,0] < WIDTH) \\\n",
    "             & (0 <= X_slice[:,:,1]) & (X_slice[:,:,1] < HEIGHT)\n",
    "    \n",
    "        net_weight = torch.zeros(batch_size, HEIGHT * WIDTH)\n",
    "        \n",
    "        # Assign flattened indices\n",
    "        indices = (X_slice[:,:,0].long() * WIDTH + X_slice[:,:,1].long())  # shape: (f, n)\n",
    "        indices = torch.clamp(indices, 0, WIDTH * HEIGHT - 1)\n",
    "\n",
    "        net_weight.scatter_add_(1, indices, weight[i:batch_end] * mask)\n",
    "\n",
    "        # Add back to results, cutting out extra index\n",
    "        result[i:batch_end] += net_weight\n",
    "\n",
    "    return result.reshape((F, HEIGHT, WIDTH))"
   ]
  },
  {
   "cell_type": "code",
   "execution_count": 22,
   "metadata": {},
   "outputs": [
    {
     "name": "stdout",
     "output_type": "stream",
     "text": [
      "torch.Size([512, 512, 2]) torch.Size([512, 512])\n"
     ]
    }
   ],
   "source": [
    "X = data[\"X\"]\n",
    "F, n, _ = X.shape\n",
    "\n",
    "m = torch.broadcast_to(data[\"m\"][None,:], (F, n))\n",
    "print(X.shape, m.shape)"
   ]
  },
  {
   "cell_type": "code",
   "execution_count": 27,
   "metadata": {},
   "outputs": [
    {
     "name": "stderr",
     "output_type": "stream",
     "text": [
      "100%|██████████| 8/8 [00:00<00:00, 119.51it/s]\n"
     ]
    }
   ],
   "source": [
    "hist = points_to_histograms(X, m, batch_size=64)"
   ]
  },
  {
   "cell_type": "code",
   "execution_count": 28,
   "metadata": {},
   "outputs": [
    {
     "name": "stderr",
     "output_type": "stream",
     "text": [
      "100%|█████████████████████████████████████████| 512/512 [00:14<00:00, 34.26it/s]\n"
     ]
    },
    {
     "name": "stdout",
     "output_type": "stream",
     "text": [
      "Finished rendering, saving to MP4...\n"
     ]
    }
   ],
   "source": [
    "x_min = 0\n",
    "x_max = 512\n",
    "y_min = 0\n",
    "y_max = 512\n",
    "\n",
    "frames = []\n",
    "fig, ax = plt.subplots(figsize=(5.12, 5.12), dpi=100)\n",
    "fig.patch.set_facecolor('black')\n",
    "\n",
    "F, _, _ = hist.shape\n",
    "\n",
    "for i in tqdm(range(F), ncols=80):\n",
    "    x = X[i]\n",
    "\n",
    "    ax.clear()\n",
    "    ax.set_xlim(0, 512)\n",
    "    ax.set_ylim(0, 512)\n",
    "    ax.imshow(hist[i], cmap=\"Greys_r\")\n",
    "    plt.axis(\"off\")\n",
    "    plt.subplots_adjust(left=0, right=1, top=1, bottom=0)\n",
    "\n",
    "    fig.canvas.draw()\n",
    "    image = np.frombuffer(fig.canvas.buffer_rgba(), dtype=\"uint8\")\n",
    "    image = image.reshape(fig.canvas.get_width_height() + (4,))\n",
    "    image = cv2.cvtColor(image, cv2.COLOR_RGBA2RGB)\n",
    "    \n",
    "    # Make the image writable by creating a copy\n",
    "    image = image.copy()\n",
    "    frames.append(image)\n",
    "\n",
    "plt.close()\n",
    "\n",
    "print(f\"Finished rendering, saving to MP4...\")\n",
    "\n",
    "# Save frames as an animated GIF with looping\n",
    "imageio.mimsave(f\"./test.mp4\", frames, fps=30) #, loop=0)"
   ]
  }
 ],
 "metadata": {
  "kernelspec": {
   "display_name": "torch",
   "language": "python",
   "name": "python3"
  },
  "language_info": {
   "codemirror_mode": {
    "name": "ipython",
    "version": 3
   },
   "file_extension": ".py",
   "mimetype": "text/x-python",
   "name": "python",
   "nbconvert_exporter": "python",
   "pygments_lexer": "ipython3",
   "version": "3.10.15"
  }
 },
 "nbformat": 4,
 "nbformat_minor": 2
}
