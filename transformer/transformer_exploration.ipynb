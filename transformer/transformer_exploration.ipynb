{
 "cells": [
  {
   "cell_type": "code",
   "execution_count": 7,
   "metadata": {},
   "outputs": [],
   "source": [
    "import torch\n",
    "from torch.utils.data import DataLoader, TensorDataset\n",
    "from torchinfo import summary\n",
    "import numpy as np\n",
    "import os\n",
    "\n",
    "import cv2\n",
    "import imageio\n",
    "\n",
    "import matplotlib.pyplot as plt\n",
    "from tqdm import tqdm\n",
    "\n",
    "from transformer import ParticleTransformer"
   ]
  },
  {
   "cell_type": "markdown",
   "metadata": {},
   "source": [
    "## Load data"
   ]
  },
  {
   "cell_type": "code",
   "execution_count": 11,
   "metadata": {},
   "outputs": [
    {
     "name": "stderr",
     "output_type": "stream",
     "text": [
      "100%|██████████| 100/100 [00:00<00:00, 463.41it/s]"
     ]
    },
    {
     "name": "stdout",
     "output_type": "stream",
     "text": [
      "Raw inputs shape: torch.Size([51100, 128, 5]) (0.122 GB)\n",
      "Loaded 51100 examples\n"
     ]
    },
    {
     "name": "stderr",
     "output_type": "stream",
     "text": [
      "\n"
     ]
    }
   ],
   "source": [
    "# Load data\n",
    "Frames = 512\n",
    "dt = 0.1\n",
    "n_particles = 128\n",
    "\n",
    "# Load different timelines\n",
    "n_timelines = 100\n",
    "\n",
    "raw_inputs = []\n",
    "raw_outputs = []\n",
    "\n",
    "for i in tqdm(range(n_timelines)):\n",
    "    timeline = torch.load(f\"../data-gen/data/n_{n_particles}_dt_{dt}_F_{Frames}/cloud/{i:06}.pt\", weights_only=True)\n",
    "    G = timeline[\"G\"]\n",
    "    X, V, m = timeline[\"X\"], timeline[\"V\"], torch.broadcast_to(timeline[\"m\"][None,:,None], (Frames, n_particles, 1))\n",
    "    features = torch.concat((X, V, m), dim=2)\n",
    "    raw_inputs.append(features[:-1])\n",
    "    raw_outputs.append(features[1:])\n",
    "\n",
    "raw_inputs = torch.concat(raw_inputs, dim=0)\n",
    "raw_outputs = torch.concat(raw_outputs, dim=0)\n",
    "assert raw_inputs.shape == raw_outputs.shape\n",
    "print(f\"Raw inputs shape: {raw_inputs.shape} ({raw_inputs.nbytes / (1024**3):.3f} GB)\")\n",
    "\n",
    "print(f\"Loaded {len(raw_inputs)} examples\")"
   ]
  },
  {
   "cell_type": "markdown",
   "metadata": {},
   "source": [
    "## Train model"
   ]
  },
  {
   "cell_type": "code",
   "execution_count": 13,
   "metadata": {},
   "outputs": [
    {
     "data": {
      "text/plain": [
       "===============================================================================================\n",
       "Layer (type:depth-idx)                        Output Shape              Param #\n",
       "===============================================================================================\n",
       "ParticleTransformer                           [2, 512, 4]               --\n",
       "├─Sequential: 1-1                             [1024, 64]                --\n",
       "│    └─Linear: 2-1                            [1024, 32]                192\n",
       "│    └─ReLU: 2-2                              [1024, 32]                --\n",
       "│    └─Dropout: 2-3                           [1024, 32]                --\n",
       "│    └─Linear: 2-4                            [1024, 64]                2,112\n",
       "│    └─ReLU: 2-5                              [1024, 64]                --\n",
       "│    └─Dropout: 2-6                           [1024, 64]                --\n",
       "├─TransformerEncoder: 1-2                     [2, 512, 64]              --\n",
       "│    └─ModuleList: 2-7                        --                        --\n",
       "│    │    └─TransformerEncoderLayer: 3-1      [2, 512, 64]              25,216\n",
       "│    │    └─TransformerEncoderLayer: 3-2      [2, 512, 64]              25,216\n",
       "│    │    └─TransformerEncoderLayer: 3-3      [2, 512, 64]              25,216\n",
       "├─TransformerDecoder: 1-3                     [2, 512, 64]              --\n",
       "│    └─ModuleList: 2-8                        --                        --\n",
       "│    │    └─TransformerDecoderLayer: 3-4      [2, 512, 64]              41,984\n",
       "│    │    └─TransformerDecoderLayer: 3-5      [2, 512, 64]              41,984\n",
       "│    │    └─TransformerDecoderLayer: 3-6      [2, 512, 64]              41,984\n",
       "├─Linear: 1-4                                 [2, 512, 4]               260\n",
       "===============================================================================================\n",
       "Total params: 204,164\n",
       "Trainable params: 204,164\n",
       "Non-trainable params: 0\n",
       "Total mult-adds (M): 2.46\n",
       "===============================================================================================\n",
       "Input size (MB): 0.02\n",
       "Forward/backward pass size (MB): 14.97\n",
       "Params size (MB): 0.22\n",
       "Estimated Total Size (MB): 15.21\n",
       "==============================================================================================="
      ]
     },
     "execution_count": 13,
     "metadata": {},
     "output_type": "execute_result"
    }
   ],
   "source": [
    "model = ParticleTransformer(input_dim=5,\n",
    "                            latent_dim=64,\n",
    "                            hidden_dim=32,\n",
    "                            embedding_layers=2,\n",
    "                            transformer_layers=3,\n",
    "                            n_heads=8,\n",
    "                            ff_dim=64,\n",
    "                            output_dim=4,\n",
    "                            dropout=0.1\n",
    ").cpu()\n",
    "summary(model, input_size=(2, 512, 5))"
   ]
  },
  {
   "cell_type": "code",
   "execution_count": null,
   "metadata": {},
   "outputs": [],
   "source": [
    "loss_history = []"
   ]
  },
  {
   "cell_type": "code",
   "execution_count": 21,
   "metadata": {},
   "outputs": [],
   "source": [
    "# Define batch size\n",
    "batch_size = 64\n",
    "\n",
    "dataset = TensorDataset(raw_inputs.cuda(), raw_outputs.cuda())\n",
    "dataloader = DataLoader(dataset, batch_size=batch_size, shuffle=True)\n",
    "\n",
    "optimizer = torch.optim.Adam(model.parameters(), lr=3e-4)\n",
    "loss_fun = torch.nn.MSELoss()"
   ]
  },
  {
   "cell_type": "code",
   "execution_count": 34,
   "metadata": {},
   "outputs": [
    {
     "name": "stderr",
     "output_type": "stream",
     "text": [
      "Epoch [1/10]: 100%|██████████| 799/799 [00:27<00:00, 28.92it/s, loss=13.2424]\n"
     ]
    },
    {
     "name": "stdout",
     "output_type": "stream",
     "text": [
      "Epoch [1/10], Loss: 13.8756\n"
     ]
    },
    {
     "name": "stderr",
     "output_type": "stream",
     "text": [
      "Epoch [2/10]: 100%|██████████| 799/799 [00:30<00:00, 26.49it/s, loss=10.1867]\n"
     ]
    },
    {
     "name": "stdout",
     "output_type": "stream",
     "text": [
      "Epoch [2/10], Loss: 12.3630\n"
     ]
    },
    {
     "name": "stderr",
     "output_type": "stream",
     "text": [
      "Epoch [3/10]: 100%|██████████| 799/799 [00:31<00:00, 25.69it/s, loss=13.2210]\n"
     ]
    },
    {
     "name": "stdout",
     "output_type": "stream",
     "text": [
      "Epoch [3/10], Loss: 11.3765\n"
     ]
    },
    {
     "name": "stderr",
     "output_type": "stream",
     "text": [
      "Epoch [4/10]: 100%|██████████| 799/799 [00:31<00:00, 25.54it/s, loss=9.6176] \n"
     ]
    },
    {
     "name": "stdout",
     "output_type": "stream",
     "text": [
      "Epoch [4/10], Loss: 10.4345\n"
     ]
    },
    {
     "name": "stderr",
     "output_type": "stream",
     "text": [
      "Epoch [5/10]: 100%|██████████| 799/799 [00:31<00:00, 25.40it/s, loss=8.7482] \n"
     ]
    },
    {
     "name": "stdout",
     "output_type": "stream",
     "text": [
      "Epoch [5/10], Loss: 9.7330\n"
     ]
    },
    {
     "name": "stderr",
     "output_type": "stream",
     "text": [
      "Epoch [6/10]: 100%|██████████| 799/799 [00:32<00:00, 24.93it/s, loss=9.4745] \n"
     ]
    },
    {
     "name": "stdout",
     "output_type": "stream",
     "text": [
      "Epoch [6/10], Loss: 9.0939\n"
     ]
    },
    {
     "name": "stderr",
     "output_type": "stream",
     "text": [
      "Epoch [7/10]: 100%|██████████| 799/799 [00:34<00:00, 22.99it/s, loss=8.0257] \n"
     ]
    },
    {
     "name": "stdout",
     "output_type": "stream",
     "text": [
      "Epoch [7/10], Loss: 8.5877\n"
     ]
    },
    {
     "name": "stderr",
     "output_type": "stream",
     "text": [
      "Epoch [8/10]: 100%|██████████| 799/799 [00:35<00:00, 22.80it/s, loss=6.5303]\n"
     ]
    },
    {
     "name": "stdout",
     "output_type": "stream",
     "text": [
      "Epoch [8/10], Loss: 8.0719\n"
     ]
    },
    {
     "name": "stderr",
     "output_type": "stream",
     "text": [
      "Epoch [9/10]: 100%|██████████| 799/799 [00:37<00:00, 21.40it/s, loss=7.8246]\n"
     ]
    },
    {
     "name": "stdout",
     "output_type": "stream",
     "text": [
      "Epoch [9/10], Loss: 7.6189\n"
     ]
    },
    {
     "name": "stderr",
     "output_type": "stream",
     "text": [
      "Epoch [10/10]: 100%|██████████| 799/799 [00:36<00:00, 21.63it/s, loss=7.1410]"
     ]
    },
    {
     "name": "stdout",
     "output_type": "stream",
     "text": [
      "Epoch [10/10], Loss: 7.2801\n"
     ]
    },
    {
     "name": "stderr",
     "output_type": "stream",
     "text": [
      "\n"
     ]
    }
   ],
   "source": [
    "epochs = 10\n",
    "\n",
    "# Training loop\n",
    "for epoch in range(epochs):\n",
    "    model.train()\n",
    "    running_loss = 0.0\n",
    "    pbar = tqdm(dataloader, desc=f\"Epoch [{epoch+1}/{epochs}]\")\n",
    "    for inputs, targets in pbar:\n",
    "        # Zero the parameter gradients\n",
    "        optimizer.zero_grad()\n",
    "\n",
    "        # Forward pass\n",
    "        outputs = model(inputs)\n",
    "\n",
    "        # Compute the loss\n",
    "        loss = loss_fun(outputs, targets[:,:,:-1])\n",
    "\n",
    "        # Backward pass and optimize\n",
    "        loss.backward()\n",
    "        optimizer.step()\n",
    "\n",
    "        # Update running loss\n",
    "        running_loss += loss.item()\n",
    "        loss_history.append(loss.item())\n",
    "        pbar.set_postfix(loss=f\"{np.mean(loss_history[-batch_size:]):.4f}\")\n",
    "\n",
    "    # Compute and display the average loss for the epoch\n",
    "    avg_loss = running_loss / len(dataloader)\n",
    "    print(f\"Epoch [{epoch+1}/{epochs}], Loss: {avg_loss:.4f}\")"
   ]
  },
  {
   "cell_type": "code",
   "execution_count": 35,
   "metadata": {},
   "outputs": [
    {
     "data": {
      "text/plain": [
       "Text(0.5, 1.0, 'Transformer training loss')"
      ]
     },
     "execution_count": 35,
     "metadata": {},
     "output_type": "execute_result"
    },
    {
     "data": {
      "image/png": "[encoded data removed]",
      "text/plain": [
       "<Figure size 640x480 with 1 Axes>"
      ]
     },
     "metadata": {},
     "output_type": "display_data"
    }
   ],
   "source": [
    "plt.plot(loss_history[8000:])\n",
    "plt.xlabel(\"Batch no.\")\n",
    "plt.ylabel(\"MSE loss\")\n",
    "plt.title(\"Transformer training loss\")"
   ]
  },
  {
   "cell_type": "markdown",
   "metadata": {},
   "source": [
    "## Evaluate model"
   ]
  },
  {
   "cell_type": "code",
   "execution_count": 37,
   "metadata": {},
   "outputs": [
    {
     "name": "stdout",
     "output_type": "stream",
     "text": [
      "torch.Size([1, 128, 5])\n",
      "loss: 1.8323962688446045\n"
     ]
    },
    {
     "data": {
      "image/png": "[encoded data removed]",
      "text/plain": [
       "<Figure size 800x380 with 2 Axes>"
      ]
     },
     "metadata": {},
     "output_type": "display_data"
    }
   ],
   "source": [
    "idx = 21\n",
    "\n",
    "x = raw_inputs[idx:idx+1].cuda()\n",
    "out = model(x)\n",
    "loss = loss_fun(out, x[...,:-1])\n",
    "\n",
    "v_mag = 4\n",
    "\n",
    "print(x.shape)\n",
    "m = x[0,:,-1].cpu()\n",
    "\n",
    "fig, axs = plt.subplots(1, 2, figsize=(8, 3.8))\n",
    "axs[0].scatter(*raw_inputs[idx][:,:2].T.cpu(), s=m)\n",
    "axs[0].set_title(\"Input\")\n",
    "axs[1].scatter(*raw_outputs[idx][:,:2].T.cpu(), s=m, label=\"Truth\")\n",
    "axs[1].scatter(*out[0][:,:2].T.cpu().detach().numpy(), s=m, label=\"Predicted\")\n",
    "axs[1].legend()\n",
    "\n",
    "print(f\"loss: {loss}\")"
   ]
  },
  {
   "cell_type": "markdown",
   "metadata": {},
   "source": [
    "## Generate example video"
   ]
  },
  {
   "cell_type": "code",
   "execution_count": 41,
   "metadata": {},
   "outputs": [
    {
     "name": "stderr",
     "output_type": "stream",
     "text": [
      "100%|███████████████████████████████████████████| 90/90 [00:02<00:00, 41.41it/s]\n"
     ]
    },
    {
     "name": "stdout",
     "output_type": "stream",
     "text": [
      "Finished rendering, saving to MP4...\n"
     ]
    }
   ],
   "source": [
    "idx = 0\n",
    "\n",
    "x = raw_inputs[idx:idx+1,:,:-1].cuda()\n",
    "m = raw_inputs[idx:idx+1,:,-1:].cuda()\n",
    "m_cpu = torch.sqrt(m.squeeze()).cpu()\n",
    "\n",
    "rendered_frames = []\n",
    "fig, ax = plt.subplots(figsize=(5.12, 5.12), dpi=100)\n",
    "\n",
    "with torch.no_grad():\n",
    "    for i in tqdm(range(90), ncols=80):\n",
    "        ax.clear()\n",
    "        ax.set_xlim(0, 128)\n",
    "        ax.set_ylim(0, 128)\n",
    "        ax.scatter(*x[0][:,:2].T.cpu().detach().numpy(), s=m_cpu**2, c=\"white\")\n",
    "        fig.patch.set_facecolor('black')\n",
    "        plt.axis(\"off\")\n",
    "        plt.subplots_adjust(left=0, right=1, top=1, bottom=0)\n",
    "\n",
    "        fig.canvas.draw()\n",
    "        image = np.frombuffer(fig.canvas.buffer_rgba(), dtype=\"uint8\")\n",
    "        image = image.reshape(fig.canvas.get_width_height() + (4,))\n",
    "        image = cv2.cvtColor(image, cv2.COLOR_RGBA2RGB)\n",
    "        \n",
    "        # Make the image writable by creating a copy\n",
    "        image = image.copy()\n",
    "        rendered_frames.append(image)\n",
    "\n",
    "        x = model(torch.concat((x, m), dim=2))\n",
    "\n",
    "plt.close()\n",
    "\n",
    "print(f\"Finished rendering, saving to MP4...\")\n",
    "imageio.mimsave(f\"./transformer_render.mp4\", rendered_frames, fps=30)  "
   ]
  }
 ],
 "metadata": {
  "kernelspec": {
   "display_name": "torch",
   "language": "python",
   "name": "python3"
  },
  "language_info": {
   "codemirror_mode": {
    "name": "ipython",
    "version": 3
   },
   "file_extension": ".py",
   "mimetype": "text/x-python",
   "name": "python",
   "nbconvert_exporter": "python",
   "pygments_lexer": "ipython3",
   "version": "3.10.15"
  }
 },
 "nbformat": 4,
 "nbformat_minor": 2
}
