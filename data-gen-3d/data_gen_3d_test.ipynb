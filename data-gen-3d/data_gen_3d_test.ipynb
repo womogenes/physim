{
 "cells": [
  {
   "cell_type": "code",
   "execution_count": null,
   "metadata": {},
   "outputs": [
    {
     "name": "stdout",
     "output_type": "stream",
     "text": [
      "Using torch device: cuda\n"
     ]
    },
    {
     "data": {
      "text/plain": [
       "<torch._C.Generator at 0x1c6a3311230>"
      ]
     },
     "execution_count": 52,
     "metadata": {},
     "output_type": "execute_result"
    }
   ],
   "source": [
    "from tqdm import tqdm\n",
    "import torch\n",
    "import matplotlib.pyplot as plt\n",
    "import os\n",
    "import numpy as np\n",
    "import imageio\n",
    "\n",
    "OUTPUT_DIR = os.path.abspath(\"./data\")\n",
    "\n",
    "device = torch.device(\"cuda\" if torch.cuda.is_available() else \"cpu\")\n",
    "print(f\"Using torch device: {device}\")\n",
    "\n",
    "WIDTH = 512\n",
    "\n",
    "torch.manual_seed(0)"
   ]
  },
  {
   "cell_type": "code",
   "execution_count": 19,
   "metadata": {},
   "outputs": [],
   "source": [
    "def get_grav_acc(x, m, G):\n",
    "    \"\"\"\n",
    "    Calculate gravitational acceleration of all points.\n",
    "        x: (n, 2) array of positions\n",
    "        m: (n,) array of masses\n",
    "        G: gravitational constant\n",
    "    \"\"\"\n",
    "    n = x.shape[0]\n",
    "    assert x.shape == (n, 3) and m.shape == (n,)\n",
    "\n",
    "    epsilon = 8  # For buffering/smoothing effect\n",
    "\n",
    "    # Calculate pairwise displacement vectors (x_i - x_j)\n",
    "    dx = x[:,None,:] - x[None,:,:]  # Shape: (n, n, 2)\n",
    "    d = torch.norm(dx, dim=2)\n",
    "\n",
    "    mapped_masses = m[:,None].expand(n, n)\n",
    "\n",
    "    d3 = (d**2 + epsilon**2)**1.5\n",
    "    F = G * dx * mapped_masses[:,:,None] / d3[:,:,None]\n",
    "    acc = torch.sum(F, dim=0) / m[:, None]\n",
    "\n",
    "    return acc"
   ]
  },
  {
   "cell_type": "code",
   "execution_count": 20,
   "metadata": {},
   "outputs": [],
   "source": [
    "def update_system(x, v, m, dt, G):\n",
    "    \"\"\"\n",
    "    Update points due to gravitational attraction.\n",
    "        x:  (n, 3) array of positions\n",
    "        v:  (n, 3) array of velocities\n",
    "        m:  (n,) array of masses\n",
    "        dt: time step\n",
    "        G:  gravitational constant\n",
    "    \"\"\"\n",
    "    n = x.shape[0]\n",
    "    assert x.shape == (n, 3) and v.shape == (n, 3) and m.shape == (n,)\n",
    "    \n",
    "    # Update positions and velocities using Verlet integration\n",
    "    # https://en.wikipedia.org/wiki/Verlet_integration#Velocity_Verlet\n",
    "    a = get_grav_acc(x, m, G)\n",
    "\n",
    "    x_new = x + v * dt + 0.5 * a * dt**2\n",
    "    a_new = get_grav_acc(x_new, m, G)\n",
    "    v_new = v + 0.5 * (a + a_new) * dt\n",
    "\n",
    "    return x_new, v_new"
   ]
  },
  {
   "cell_type": "code",
   "execution_count": 21,
   "metadata": {},
   "outputs": [],
   "source": [
    "def generate_timeline(x0, v0, m, G, dt, F):\n",
    "    \"\"\"\n",
    "    Generate one timeline of frames for gravity simulation.\n",
    "\n",
    "    arguments:\n",
    "        x0: (n, 3) array of initial positions\n",
    "        v0: (n, 3) array of initial velocities\n",
    "        m:  (n,) array of masses\n",
    "        G:  gravitational constant\n",
    "        dt: timestep per frame\n",
    "        F:  frames to simulate for\n",
    "    \"\"\"\n",
    "    n = x0.shape[0]\n",
    "    assert x0.shape == (n, 3) and v0.shape == (n, 3) and m.shape == (n,)\n",
    "\n",
    "    X = torch.zeros((F, n, 3)).to(device)\n",
    "    V = torch.zeros((F, n, 3)).to(device)\n",
    "\n",
    "    X[0] = x0\n",
    "    V[0] = v0\n",
    "    m = m.to(device)\n",
    "\n",
    "    for i in range(1, F):\n",
    "        X[i], V[i] = update_system(X[i-1], V[i-1], m, dt, G)\n",
    "    \n",
    "    return {\n",
    "        \"dt\": dt,\n",
    "        \"G\": G,\n",
    "        \"m\": m.cpu(),\n",
    "        \"X\": X.cpu(),\n",
    "        \"V\": V.cpu(),\n",
    "    }"
   ]
  },
  {
   "cell_type": "code",
   "execution_count": 80,
   "metadata": {},
   "outputs": [],
   "source": [
    "F = 512             # Frames per timeline\n",
    "dt = 0.5            # Timestep per frame\n",
    "G = 100             # Gravitational constant\n",
    "n_samples = 10      # Number of timelines to generate\n",
    "\n",
    "n = 512             # Number of particles\n",
    "\n",
    "x0 = torch.hstack([torch.rand((n, 3)) * WIDTH])\n",
    "v0 = torch.randn((n, 3)) * 2\n",
    "m = torch.exp(torch.randn((n,)) * 0.5 + 1)\n",
    "\n",
    "x, v = x0, v0"
   ]
  },
  {
   "cell_type": "code",
   "execution_count": null,
   "metadata": {},
   "outputs": [
    {
     "name": "stderr",
     "output_type": "stream",
     "text": [
      "100%|██████████| 300/300 [00:08<00:00, 36.27it/s]\n"
     ]
    },
    {
     "name": "stdout",
     "output_type": "stream",
     "text": [
      "Finished rendering, saving to MP4...\n"
     ]
    }
   ],
   "source": [
    "frames = []\n",
    "\n",
    "fig = plt.figure()\n",
    "ax = fig.add_subplot(projection=\"3d\")\n",
    "\n",
    "ax.set_facecolor(\"black\")\n",
    "\n",
    "for i in tqdm(range(30 * 10)):\n",
    "    x, v = update_system(x, v, m, dt, G)\n",
    "\n",
    "    ax.clear()\n",
    "    ax.set_xlim(0, 512)\n",
    "    ax.set_ylim(0, 512)\n",
    "    ax.set_zlim(0, 512)\n",
    "    ax.scatter(x[:,0], x[:,1], x[:,2], color=\"white\", s=torch.sqrt(m))\n",
    "    plt.axis(\"off\")\n",
    "    plt.subplots_adjust(left=0, right=1, top=1, bottom=0)\n",
    "\n",
    "    fig.canvas.draw()\n",
    "    image = np.frombuffer(fig.canvas.buffer_rgba(), dtype=\"uint8\")\n",
    "    image = image.reshape(fig.canvas.get_width_height()[::-1] + (4,))\n",
    "    \n",
    "    # Make the image writable by creating a copy\n",
    "    image = image.copy()\n",
    "    frames.append(image)\n",
    "\n",
    "plt.close(fig)\n",
    "print(f\"Finished rendering, saving to MP4...\")\n",
    "\n",
    "# Save frames as an animated GIF with looping\n",
    "imageio.mimsave(f\"3d_test.mp4\", frames, fps=30)"
   ]
  }
 ],
 "metadata": {
  "kernelspec": {
   "display_name": "torch",
   "language": "python",
   "name": "python3"
  },
  "language_info": {
   "codemirror_mode": {
    "name": "ipython",
    "version": 3
   },
   "file_extension": ".py",
   "mimetype": "text/x-python",
   "name": "python",
   "nbconvert_exporter": "python",
   "pygments_lexer": "ipython3",
   "version": "3.10.15"
  }
 },
 "nbformat": 4,
 "nbformat_minor": 2
}
